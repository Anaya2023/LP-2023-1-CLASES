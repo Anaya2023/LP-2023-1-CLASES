{
 "cells": [
  {
   "cell_type": "markdown",
   "id": "ac43f0dd",
   "metadata": {},
   "source": [
    "# Semana03\n",
    "ANAYA CASTRO JEFERSSON RODRIGO "
   ]
  },
  {
   "cell_type": "raw",
   "id": "6ac7f38d",
   "metadata": {},
   "source": [
    "Temas:\n",
    " 1.Numeros\n",
    " 2.Variables\n",
    " 3.Manejo De Cadenas\n",
    " 4.Ingreso de datos por teclado\n",
    " 5.Operadores\n",
    "    \n",
    "        \n",
    "        "
   ]
  },
  {
   "cell_type": "markdown",
   "id": "ee9ae449",
   "metadata": {},
   "source": [
    "1.Numeros "
   ]
  },
  {
   "cell_type": "code",
   "execution_count": null,
   "id": "9f4ee8b7",
   "metadata": {},
   "outputs": [
    {
     "data": {
      "text/plain": [
       "10"
      ]
     },
     "execution_count": 1,
     "metadata": {},
     "output_type": "execute_result"
    }
   ],
   "source": [
    "9+1\n"
   ]
  },
  {
   "cell_type": "code",
   "execution_count": null,
   "id": "508e166d",
   "metadata": {},
   "outputs": [],
   "source": []
  }
 ],
 "metadata": {
  "kernelspec": {
   "display_name": "Python 3 (ipykernel)",
   "language": "python",
   "name": "python3"
  },
  "language_info": {
   "codemirror_mode": {
    "name": "ipython",
    "version": 3
   },
   "file_extension": ".py",
   "mimetype": "text/x-python",
   "name": "python",
   "nbconvert_exporter": "python",
   "pygments_lexer": "ipython3",
   "version": "3.9.12"
  }
 },
 "nbformat": 4,
 "nbformat_minor": 5
}
