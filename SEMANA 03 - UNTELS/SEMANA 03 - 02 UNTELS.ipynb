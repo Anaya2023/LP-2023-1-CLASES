{
 "cells": [
  {
   "cell_type": "markdown",
   "id": "e7b2006a",
   "metadata": {},
   "source": [
    "# Semana03\n",
    "ANAYA CASTRO JEFERSSON RODRIGO"
   ]
  },
  {
   "cell_type": "markdown",
   "id": "3c47e087",
   "metadata": {},
   "source": [
    "Temas:\n",
    " 1.Numeros\n",
    " 2.Variables\n",
    " 3.Manejo De Cadenas\n",
    " 4.Ingreso de datos por teclado\n",
    " 5.Operadores\n",
    "\n"
   ]
  },
  {
   "cell_type": "markdown",
   "id": "ef4d78a4",
   "metadata": {},
   "source": [
    "2.Variables"
   ]
  },
  {
   "cell_type": "code",
   "execution_count": 3,
   "id": "8878e280",
   "metadata": {},
   "outputs": [],
   "source": [
    "#Siempre deben inciair con una letra o un guin abajo. (NUNCA CON UN NUMERO U OTRO SIMBOLO)\n"
   ]
  },
  {
   "cell_type": "code",
   "execution_count": 5,
   "id": "81a0661a",
   "metadata": {},
   "outputs": [],
   "source": [
    "edad =20"
   ]
  },
  {
   "cell_type": "code",
   "execution_count": 6,
   "id": "deb2169d",
   "metadata": {},
   "outputs": [
    {
     "data": {
      "text/plain": [
       "20"
      ]
     },
     "execution_count": 6,
     "metadata": {},
     "output_type": "execute_result"
    }
   ],
   "source": [
    "edad"
   ]
  },
  {
   "cell_type": "code",
   "execution_count": 9,
   "id": "0c617590",
   "metadata": {},
   "outputs": [],
   "source": [
    "nombre = \"Jefersson Rodrigo\""
   ]
  },
  {
   "cell_type": "code",
   "execution_count": 10,
   "id": "345edaca",
   "metadata": {},
   "outputs": [
    {
     "data": {
      "text/plain": [
       "'Jefersson Rodrigo'"
      ]
     },
     "execution_count": 10,
     "metadata": {},
     "output_type": "execute_result"
    }
   ],
   "source": [
    "nombre"
   ]
  },
  {
   "cell_type": "code",
   "execution_count": 15,
   "id": "bdc80ad5",
   "metadata": {},
   "outputs": [],
   "source": [
    "apellido = \"Anaya Castro\""
   ]
  },
  {
   "cell_type": "code",
   "execution_count": 16,
   "id": "8500a55c",
   "metadata": {},
   "outputs": [
    {
     "data": {
      "text/plain": [
       "'Anaya Castro'"
      ]
     },
     "execution_count": 16,
     "metadata": {},
     "output_type": "execute_result"
    }
   ],
   "source": [
    "apellido"
   ]
  },
  {
   "cell_type": "code",
   "execution_count": 18,
   "id": "1eb46176",
   "metadata": {},
   "outputs": [
    {
     "data": {
      "text/plain": [
       "'Jefersson RodrigoAnaya Castro'"
      ]
     },
     "execution_count": 18,
     "metadata": {},
     "output_type": "execute_result"
    }
   ],
   "source": [
    "nombrecompleto = nombre + apellido\n",
    "nombrecompleto"
   ]
  },
  {
   "cell_type": "code",
   "execution_count": 19,
   "id": "3a0fecae",
   "metadata": {},
   "outputs": [
    {
     "data": {
      "text/plain": [
       "int"
      ]
     },
     "execution_count": 19,
     "metadata": {},
     "output_type": "execute_result"
    }
   ],
   "source": [
    "#Para saber si el tipo de variable se utiliza la funcion type()\n",
    "#EJEMPLO\n",
    "numero =100\n",
    "type(numero)"
   ]
  },
  {
   "cell_type": "code",
   "execution_count": 20,
   "id": "628d74ea",
   "metadata": {},
   "outputs": [
    {
     "data": {
      "text/plain": [
       "str"
      ]
     },
     "execution_count": 20,
     "metadata": {},
     "output_type": "execute_result"
    }
   ],
   "source": [
    "type(nombre)"
   ]
  },
  {
   "cell_type": "code",
   "execution_count": 22,
   "id": "93ba0e05",
   "metadata": {},
   "outputs": [],
   "source": [
    "talla = 1.80"
   ]
  },
  {
   "cell_type": "code",
   "execution_count": 23,
   "id": "6a5aee58",
   "metadata": {},
   "outputs": [
    {
     "data": {
      "text/plain": [
       "1.8"
      ]
     },
     "execution_count": 23,
     "metadata": {},
     "output_type": "execute_result"
    }
   ],
   "source": [
    "talla"
   ]
  },
  {
   "cell_type": "code",
   "execution_count": 24,
   "id": "eef6f1c7",
   "metadata": {},
   "outputs": [
    {
     "data": {
      "text/plain": [
       "float"
      ]
     },
     "execution_count": 24,
     "metadata": {},
     "output_type": "execute_result"
    }
   ],
   "source": [
    "type(talla)"
   ]
  },
  {
   "cell_type": "code",
   "execution_count": 28,
   "id": "bf812c4f",
   "metadata": {},
   "outputs": [
    {
     "data": {
      "text/plain": [
       "'60'"
      ]
     },
     "execution_count": 28,
     "metadata": {},
     "output_type": "execute_result"
    }
   ],
   "source": [
    "#Para convertir un numero en cadena utilizamos str().\n",
    "numero = 60 \n",
    "cadena = str(numero)\n",
    "cadena"
   ]
  },
  {
   "cell_type": "code",
   "execution_count": 29,
   "id": "37dc1150",
   "metadata": {},
   "outputs": [
    {
     "data": {
      "text/plain": [
       "str"
      ]
     },
     "execution_count": 29,
     "metadata": {},
     "output_type": "execute_result"
    }
   ],
   "source": [
    "type(cadena)"
   ]
  },
  {
   "cell_type": "code",
   "execution_count": 30,
   "id": "7cc35f02",
   "metadata": {},
   "outputs": [],
   "source": [
    "#Para covnertir una cadena en un entero se utiliza int()"
   ]
  },
  {
   "cell_type": "code",
   "execution_count": 31,
   "id": "229c7b7f",
   "metadata": {},
   "outputs": [
    {
     "data": {
      "text/plain": [
       "55"
      ]
     },
     "execution_count": 31,
     "metadata": {},
     "output_type": "execute_result"
    }
   ],
   "source": [
    "cadena2 = \"55\"\n",
    "numero2 = int(cadena2)\n",
    "numero2"
   ]
  },
  {
   "cell_type": "code",
   "execution_count": 32,
   "id": "5adfc217",
   "metadata": {},
   "outputs": [
    {
     "data": {
      "text/plain": [
       "str"
      ]
     },
     "execution_count": 32,
     "metadata": {},
     "output_type": "execute_result"
    }
   ],
   "source": [
    "type(cadena2)"
   ]
  },
  {
   "cell_type": "code",
   "execution_count": 33,
   "id": "f7bed694",
   "metadata": {},
   "outputs": [
    {
     "data": {
      "text/plain": [
       "int"
      ]
     },
     "execution_count": 33,
     "metadata": {},
     "output_type": "execute_result"
    }
   ],
   "source": [
    "type(numero2)"
   ]
  },
  {
   "cell_type": "code",
   "execution_count": 34,
   "id": "8eb381f3",
   "metadata": {},
   "outputs": [],
   "source": [
    "#Para convertir un cadena a decimal se utiliza float()"
   ]
  },
  {
   "cell_type": "code",
   "execution_count": 35,
   "id": "bf97c7b7",
   "metadata": {},
   "outputs": [
    {
     "data": {
      "text/plain": [
       "55.0"
      ]
     },
     "execution_count": 35,
     "metadata": {},
     "output_type": "execute_result"
    }
   ],
   "source": [
    "cadena2 = \"55\"\n",
    "numero2 = float(cadena2)\n",
    "numero2"
   ]
  },
  {
   "cell_type": "code",
   "execution_count": 37,
   "id": "9b9dd566",
   "metadata": {},
   "outputs": [
    {
     "data": {
      "text/plain": [
       "float"
      ]
     },
     "execution_count": 37,
     "metadata": {},
     "output_type": "execute_result"
    }
   ],
   "source": [
    "type(numero2)"
   ]
  },
  {
   "cell_type": "code",
   "execution_count": null,
   "id": "d9cef957",
   "metadata": {},
   "outputs": [],
   "source": []
  }
 ],
 "metadata": {
  "kernelspec": {
   "display_name": "Python 3 (ipykernel)",
   "language": "python",
   "name": "python3"
  },
  "language_info": {
   "codemirror_mode": {
    "name": "ipython",
    "version": 3
   },
   "file_extension": ".py",
   "mimetype": "text/x-python",
   "name": "python",
   "nbconvert_exporter": "python",
   "pygments_lexer": "ipython3",
   "version": "3.9.12"
  }
 },
 "nbformat": 4,
 "nbformat_minor": 5
}
